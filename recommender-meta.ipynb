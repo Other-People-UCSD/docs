{
 "cells": [
  {
   "cell_type": "code",
   "execution_count": 1,
   "id": "abc2fd67-d0f0-402a-b712-a82535bbb013",
   "metadata": {
    "jupyter": {
     "source_hidden": true
    },
    "tags": []
   },
   "outputs": [
    {
     "ename": "NameError",
     "evalue": "name 'string' is not defined",
     "output_type": "error",
     "traceback": [
      "\u001b[1;31m---------------------------------------------------------------------------\u001b[0m",
      "\u001b[1;31mNameError\u001b[0m                                 Traceback (most recent call last)",
      "Cell \u001b[1;32mIn[1], line 1\u001b[0m\n\u001b[1;32m----> 1\u001b[0m sp \u001b[38;5;241m=\u001b[39m \u001b[38;5;28mset\u001b[39m(\u001b[43mstring\u001b[49m\u001b[38;5;241m.\u001b[39mpunctuation)\n\u001b[0;32m      2\u001b[0m wordCount \u001b[38;5;241m=\u001b[39m defaultdict(\u001b[38;5;28mint\u001b[39m)\n\u001b[0;32m      3\u001b[0m \u001b[38;5;28;01mfor\u001b[39;00m post \u001b[38;5;129;01min\u001b[39;00m content:\n",
      "\u001b[1;31mNameError\u001b[0m: name 'string' is not defined"
     ]
    }
   ],
   "source": [
    "sp = set(string.punctuation)\n",
    "wordCount = defaultdict(int)\n",
    "for post in content:\n",
    "    r = ''.join([c for c in post.lower() if not c in sp])\n",
    "    ws = r.split()\n",
    "    ws2 = [' '.join(x) for x in list(zip(ws[:-1], ws[1:]))]\n",
    "    for w in ws2:\n",
    "        wordCount[w] += 1\n",
    "        \n",
    "counts = [(wordCount[w], w) for w in wordCount]\n",
    "counts.sort()\n",
    "counts.reverse()\n",
    "\n",
    "words = [w[1] for w in counts[:1000]]\n",
    "wordId = dict(zip(words, range(len(words))))\n",
    "wordSet = set(words)\n",
    "# print(counts)\n",
    "\n",
    "def featBigrams(data):\n",
    "    feat = [0] * len(words)\n",
    "    r = ''.join([c for c in data.lower() if not c in sp])\n",
    "    ws = r.split()\n",
    "    ws2 = [' '.join(x) for x in list(zip(ws[:-1], ws[1:]))]\n",
    "    for w in ws2:\n",
    "        if w in words:\n",
    "            feat[wordId[w]] += 1\n",
    "    feat.append(1)\n",
    "    return feat"
   ]
  },
  {
   "cell_type": "markdown",
   "id": "b30a44d9-5e11-446e-98cd-6a2cfaaeac0b",
   "metadata": {},
   "source": [
    "## Metadata Feature Recommender\n",
    "This recommendation model is meant to extract features from the metadata in each post and determine similarity between them. In particular, there are three metadata features that do influence the recommendation: `tags`, `contributor`, and `wordCount`. The tags would be a good recommendation for readers who are interested in works of the same genre. The contributors, also known as the writers and/or artists, could interest the reader and thus recommend similar works by the authors. Word count can also play a role in determining if the reader wants to enjoy works of a similar length. The current recommendation system weighs each of these features equally, although future models may change the weights so that recommended works do not constrain the reader to a specific interest bubble."
   ]
  },
  {
   "cell_type": "code",
   "execution_count": 1,
   "id": "d88941a1-582c-47c1-a71a-4cdf8d18238e",
   "metadata": {},
   "outputs": [],
   "source": [
    "import requests\n",
    "import json\n",
    "from collections import defaultdict\n",
    "import re\n",
    "from sklearn.feature_extraction.text import CountVectorizer\n",
    "from sklearn.metrics.pairwise import cosine_similarity"
   ]
  },
  {
   "cell_type": "code",
   "execution_count": 2,
   "id": "d137318d-e92f-4f8e-81d4-8b0cc09b6181",
   "metadata": {},
   "outputs": [],
   "source": [
    "res = requests.get('http://calla-lily-git-api-other-people.vercel.app/api/post-data.json')\n",
    "response = json.loads(res.text)\n",
    "postSlugs = response.keys()\n",
    "# Convert the json data to a list for indexing\n",
    "listRes = [k for k,v in response.items()]"
   ]
  },
  {
   "cell_type": "code",
   "execution_count": 3,
   "id": "36c541a0-ac74-47c2-86d3-e48006469f4f",
   "metadata": {},
   "outputs": [],
   "source": [
    "# Remove irrelevant metadata to make the data faster and easier to work with\n",
    "def cleanData(data, key):\n",
    "    try:\n",
    "        del data[key]\n",
    "    except:\n",
    "        return"
   ]
  },
  {
   "cell_type": "code",
   "execution_count": 4,
   "id": "76481c87-d95b-4f93-8e3a-2a8090896525",
   "metadata": {},
   "outputs": [],
   "source": [
    "# Converts array metadata by converting each element into a single word, also removes additional details\n",
    "def reformatArray(arr, key):\n",
    "    try:\n",
    "        if key == 'contributor':\n",
    "            arr = re.split(',|&', arr)\n",
    "        reformatted = []\n",
    "        for item in arr:\n",
    "            if key == 'contributor':\n",
    "                item = re.sub(r'\\(.*\\)', '', item)\n",
    "            item = item.strip()\n",
    "            words = item.split(' ')\n",
    "            if key == 'tags' and len(words) > 1:\n",
    "                for w in words:\n",
    "                    reformatted.append(w)\n",
    "            item = ''.join(words)\n",
    "            reformatted.append(item)\n",
    "        return reformatted\n",
    "    except:\n",
    "        return arr"
   ]
  },
  {
   "cell_type": "code",
   "execution_count": 5,
   "id": "d3cf2699-40c7-4262-8641-77d170ce2389",
   "metadata": {},
   "outputs": [],
   "source": [
    "soupDf = [] # feature dataset\n",
    "onlyMeta = [] \n",
    "removeKeys = ['layout', 'date', 'noHTML', 'thumbnail', 'theme', 'collection', 'prevPost', 'nextPost', 'title', 'contentWarning']\n",
    "for post in postSlugs:\n",
    "    copyData = response[post]\n",
    "    for k in removeKeys:\n",
    "        cleanData(copyData, k)\n",
    "        \n",
    "    copyData['contributor'] = reformatArray(copyData['contributor'], 'contributor')\n",
    "    copyData['tags'] = reformatArray(copyData['tags'], 'tags')\n",
    "    \n",
    "    # Force edit word count to the manually set word count on custom-built works\n",
    "    if 'manualWC' in copyData:\n",
    "        copyData['wordCount'] = copyData['manualWC']\n",
    "        del copyData['manualWC']\n",
    "    \n",
    "    copyData['soup'] = ' '.join(copyData['contributor']) + ' ' + ' '.join(copyData['tags']) + ' ' + str(copyData['wordCount'])\n",
    "    copyData['soup'] = copyData['soup'].lower()\n",
    "    soupDf.append(copyData['soup'])\n",
    "    onlyMeta.append(copyData)"
   ]
  },
  {
   "cell_type": "markdown",
   "id": "a4935ef6-e691-4713-a1c7-6438fd5b44e3",
   "metadata": {},
   "source": [
    "We use cosine similarity to compare the works because their data can be of variable length and it is beneficial to check the frequency of terms. Therefore, the angle of difference between the feature vectors is a stronger metric to use as compared to an euclidean approach.\n",
    "\n",
    "Recommender model sourced by [https://michael-fuchs-python.netlify.app/2020/10/05/recommendation-systems-metadata-based-recommender/](https://michael-fuchs-python.netlify.app/2020/10/05/recommendation-systems-metadata-based-recommender/)"
   ]
  },
  {
   "cell_type": "code",
   "execution_count": 6,
   "id": "b0d09ef0-b944-4252-9bdd-f98e5c02c597",
   "metadata": {},
   "outputs": [],
   "source": [
    "count = CountVectorizer(stop_words='english')\n",
    "count_matrix = count.fit_transform(soupDf)\n",
    "cosine_sim = cosine_similarity(count_matrix, count_matrix)"
   ]
  },
  {
   "cell_type": "code",
   "execution_count": 7,
   "id": "9a5a22e3-86c2-419c-8d69-acc85e551553",
   "metadata": {},
   "outputs": [],
   "source": [
    "# Recommendation model with k closest works\n",
    "def metaRecommender(slug, k=10, showSim=False, cosine_sim=cosine_sim, df=soupDf):\n",
    "    idx = listRes.index(slug)\n",
    "    sim_scores = list(enumerate(cosine_sim[idx]))\n",
    "    sim_scores = sorted(sim_scores, key=lambda x: x[1], reverse=True)\n",
    "    sim_scores = sim_scores[1:k+1]\n",
    "    if showSim:\n",
    "        sim_slugs = [(listRes[item[0]], round(item[1],4)) for item in sim_scores] \n",
    "    else:\n",
    "        sim_slugs = [listRes[item[0]] for item in sim_scores]\n",
    "    return sim_slugs"
   ]
  },
  {
   "cell_type": "code",
   "execution_count": 8,
   "id": "6fff1eaf-06ec-45ca-a62b-3125cf63a537",
   "metadata": {},
   "outputs": [
    {
     "data": {
      "text/plain": [
       "['/2023/soliloquy',\n",
       " '/2023/missed-connections',\n",
       " '/2022/west-coast-elegies',\n",
       " '/2023/out-of-use',\n",
       " '/2023/planet',\n",
       " '/2023/the-greatest-author',\n",
       " '/2023/too-easily',\n",
       " '/2023/to-build-castles-in-the-sky',\n",
       " '/2022/shore-walking',\n",
       " '/4/para-mi-hermane']"
      ]
     },
     "execution_count": 8,
     "metadata": {},
     "output_type": "execute_result"
    }
   ],
   "source": [
    "k = 10\n",
    "metaRecommender('/2023/hole', k)"
   ]
  },
  {
   "cell_type": "code",
   "execution_count": 9,
   "id": "640e2e05-b6c0-4949-a7e1-97dad3ea4958",
   "metadata": {},
   "outputs": [],
   "source": [
    "k = 10\n",
    "showSim = False\n",
    "metaRecs = {}\n",
    "for slug in listRes:\n",
    "    recommendations = metaRecommender(slug, k, showSim)\n",
    "    metaRecs[slug] = recommendations\n",
    "    # print(slug, recommendations)"
   ]
  },
  {
   "cell_type": "code",
   "execution_count": 10,
   "id": "2ff4e3aa-2859-4439-8478-45ccf31d97fb",
   "metadata": {},
   "outputs": [],
   "source": [
    "# Convert the result to JSON and write to file\n",
    "\n",
    "with open('recommender.json', mode='w', encoding='utf8') as outfile:\n",
    "    outfile.write(json.dumps(metaRecs))"
   ]
  },
  {
   "cell_type": "code",
   "execution_count": null,
   "id": "94bcd666-1c28-4553-af9c-1aa4ed52d85e",
   "metadata": {},
   "outputs": [],
   "source": []
  }
 ],
 "metadata": {
  "kernelspec": {
   "display_name": "Python 3 (ipykernel)",
   "language": "python",
   "name": "python3"
  },
  "language_info": {
   "codemirror_mode": {
    "name": "ipython",
    "version": 3
   },
   "file_extension": ".py",
   "mimetype": "text/x-python",
   "name": "python",
   "nbconvert_exporter": "python",
   "pygments_lexer": "ipython3",
   "version": "3.10.9"
  }
 },
 "nbformat": 4,
 "nbformat_minor": 5
}
